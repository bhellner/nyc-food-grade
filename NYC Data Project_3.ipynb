{
 "cells": [
  {
   "cell_type": "markdown",
   "metadata": {},
   "source": [
    "# NYC Restaurant Health Inspection Data Project\n",
    "\n",
    "### This project analyzes New York City restaurant health inspection results. \n",
    "\n",
    "### Project Objective: This project studies the New York City Restaurant health inspection results. Determining if there is any bias depending on restaurant location or cuisine type and what violations produce a critical flag. Also getting a closer look at how many restaurants are in danger of being permanently closed due to poor performance upon reinspections. This work helps give an idea of what makes up a health inspection rating to an average consumer. \n",
    "\n",
    "### Outline of the project steps:\n",
    "  - Step 1: Importing the data and understanding what is in the NYC health inspection csv file\n",
    "  - Step 2: Data Cleaning - Score and Grade columns\n",
    "  - Step 3: Data Cleaning - Borough column\n",
    "  - Step 4: Grade distribution depending on Borough\n",
    "  - Step 5: Grade distribution depending on cuisine\n",
    "  - Step 6: Health inspection score distrubition  \n",
    "  - Step 7: Critical or not critical restaurants and violations that cause them \n",
    "  - Step 8: Restaurants in danger of being permanently closed\n",
    "  - Step 9: Restaurants in danger of being permanently closed on a map of Manhattan\n",
    "  - Step 10: Model to predict a critical or not critical evaluation\n",
    "  - Conclusions"
   ]
  },
  {
   "cell_type": "markdown",
   "metadata": {},
   "source": [
    "# Step 1\n",
    "## Importing the data and understanding what is in the NYC health inspection csv file"
   ]
  },
  {
   "cell_type": "code",
   "execution_count": 1,
   "metadata": {},
   "outputs": [],
   "source": [
    "#importing the libraries\n",
    "import pandas as pd\n",
    "import numpy as np\n",
    "import matplotlib.pyplot as plt\n",
    "import seaborn as sns\n",
    "%matplotlib inline"
   ]
  },
  {
   "cell_type": "code",
   "execution_count": 2,
   "metadata": {},
   "outputs": [],
   "source": [
    "#importing the data\n",
    "df = pd.read_csv('NYCdata.csv')"
   ]
  },
  {
   "cell_type": "code",
   "execution_count": 3,
   "metadata": {},
   "outputs": [
    {
     "data": {
      "text/html": [
       "<div>\n",
       "<style scoped>\n",
       "    .dataframe tbody tr th:only-of-type {\n",
       "        vertical-align: middle;\n",
       "    }\n",
       "\n",
       "    .dataframe tbody tr th {\n",
       "        vertical-align: top;\n",
       "    }\n",
       "\n",
       "    .dataframe thead th {\n",
       "        text-align: right;\n",
       "    }\n",
       "</style>\n",
       "<table border=\"1\" class=\"dataframe\">\n",
       "  <thead>\n",
       "    <tr style=\"text-align: right;\">\n",
       "      <th></th>\n",
       "      <th>CAMIS</th>\n",
       "      <th>DBA</th>\n",
       "      <th>BORO</th>\n",
       "      <th>BUILDING</th>\n",
       "      <th>STREET</th>\n",
       "      <th>ZIPCODE</th>\n",
       "      <th>PHONE</th>\n",
       "      <th>CUISINE DESCRIPTION</th>\n",
       "      <th>INSPECTION DATE</th>\n",
       "      <th>ACTION</th>\n",
       "      <th>...</th>\n",
       "      <th>RECORD DATE</th>\n",
       "      <th>INSPECTION TYPE</th>\n",
       "      <th>Latitude</th>\n",
       "      <th>Longitude</th>\n",
       "      <th>Community Board</th>\n",
       "      <th>Council District</th>\n",
       "      <th>Census Tract</th>\n",
       "      <th>BIN</th>\n",
       "      <th>BBL</th>\n",
       "      <th>NTA</th>\n",
       "    </tr>\n",
       "  </thead>\n",
       "  <tbody>\n",
       "    <tr>\n",
       "      <th>0</th>\n",
       "      <td>41720461</td>\n",
       "      <td>LA COCINA DE ALEX</td>\n",
       "      <td>Queens</td>\n",
       "      <td>10203</td>\n",
       "      <td>JAMAICA AVENUE</td>\n",
       "      <td>11418.0</td>\n",
       "      <td>7188497509</td>\n",
       "      <td>Spanish</td>\n",
       "      <td>04/28/2018</td>\n",
       "      <td>Violations were cited in the following area(s).</td>\n",
       "      <td>...</td>\n",
       "      <td>02/05/2020</td>\n",
       "      <td>Cycle Inspection / Initial Inspection</td>\n",
       "      <td>40.695164</td>\n",
       "      <td>-73.845049</td>\n",
       "      <td>409.0</td>\n",
       "      <td>32.0</td>\n",
       "      <td>2600.0</td>\n",
       "      <td>4191641.0</td>\n",
       "      <td>4.091870e+09</td>\n",
       "      <td>QN54</td>\n",
       "    </tr>\n",
       "    <tr>\n",
       "      <th>1</th>\n",
       "      <td>50074496</td>\n",
       "      <td>CAFE BISTRO</td>\n",
       "      <td>Manhattan</td>\n",
       "      <td>312</td>\n",
       "      <td>W 34TH ST</td>\n",
       "      <td>10001.0</td>\n",
       "      <td>9172612450</td>\n",
       "      <td>American</td>\n",
       "      <td>07/31/2018</td>\n",
       "      <td>Violations were cited in the following area(s).</td>\n",
       "      <td>...</td>\n",
       "      <td>02/05/2020</td>\n",
       "      <td>Cycle Inspection / Initial Inspection</td>\n",
       "      <td>40.752458</td>\n",
       "      <td>-73.994138</td>\n",
       "      <td>104.0</td>\n",
       "      <td>3.0</td>\n",
       "      <td>10300.0</td>\n",
       "      <td>1013552.0</td>\n",
       "      <td>1.007570e+09</td>\n",
       "      <td>MN13</td>\n",
       "    </tr>\n",
       "  </tbody>\n",
       "</table>\n",
       "<p>2 rows × 26 columns</p>\n",
       "</div>"
      ],
      "text/plain": [
       "      CAMIS                DBA       BORO BUILDING          STREET  ZIPCODE  \\\n",
       "0  41720461  LA COCINA DE ALEX     Queens    10203  JAMAICA AVENUE  11418.0   \n",
       "1  50074496        CAFE BISTRO  Manhattan      312       W 34TH ST  10001.0   \n",
       "\n",
       "        PHONE CUISINE DESCRIPTION INSPECTION DATE  \\\n",
       "0  7188497509             Spanish      04/28/2018   \n",
       "1  9172612450            American      07/31/2018   \n",
       "\n",
       "                                            ACTION  ... RECORD DATE  \\\n",
       "0  Violations were cited in the following area(s).  ...  02/05/2020   \n",
       "1  Violations were cited in the following area(s).  ...  02/05/2020   \n",
       "\n",
       "                         INSPECTION TYPE   Latitude  Longitude  \\\n",
       "0  Cycle Inspection / Initial Inspection  40.695164 -73.845049   \n",
       "1  Cycle Inspection / Initial Inspection  40.752458 -73.994138   \n",
       "\n",
       "  Community Board Council District Census Tract        BIN           BBL   NTA  \n",
       "0           409.0             32.0       2600.0  4191641.0  4.091870e+09  QN54  \n",
       "1           104.0              3.0      10300.0  1013552.0  1.007570e+09  MN13  \n",
       "\n",
       "[2 rows x 26 columns]"
      ]
     },
     "execution_count": 3,
     "metadata": {},
     "output_type": "execute_result"
    }
   ],
   "source": [
    "#understanding the data\n",
    "df.head(2)"
   ]
  },
  {
   "cell_type": "code",
   "execution_count": 4,
   "metadata": {},
   "outputs": [
    {
     "name": "stdout",
     "output_type": "stream",
     "text": [
      "<class 'pandas.core.frame.DataFrame'>\n",
      "RangeIndex: 400735 entries, 0 to 400734\n",
      "Data columns (total 26 columns):\n",
      "CAMIS                    400735 non-null int64\n",
      "DBA                      400307 non-null object\n",
      "BORO                     400735 non-null object\n",
      "BUILDING                 400483 non-null object\n",
      "STREET                   400734 non-null object\n",
      "ZIPCODE                  395193 non-null float64\n",
      "PHONE                    400719 non-null object\n",
      "CUISINE DESCRIPTION      400735 non-null object\n",
      "INSPECTION DATE          400735 non-null object\n",
      "ACTION                   399189 non-null object\n",
      "VIOLATION CODE           394852 non-null object\n",
      "VIOLATION DESCRIPTION    391483 non-null object\n",
      "CRITICAL FLAG            391483 non-null object\n",
      "SCORE                    383588 non-null float64\n",
      "GRADE                    202305 non-null object\n",
      "GRADE DATE               200053 non-null object\n",
      "RECORD DATE              400735 non-null object\n",
      "INSPECTION TYPE          399189 non-null object\n",
      "Latitude                 400321 non-null float64\n",
      "Longitude                400321 non-null float64\n",
      "Community Board          394780 non-null float64\n",
      "Council District         394792 non-null float64\n",
      "Census Tract             394792 non-null float64\n",
      "BIN                      393045 non-null float64\n",
      "BBL                      400321 non-null float64\n",
      "NTA                      394780 non-null object\n",
      "dtypes: float64(9), int64(1), object(16)\n",
      "memory usage: 79.5+ MB\n"
     ]
    }
   ],
   "source": [
    "df.info()"
   ]
  },
  {
   "cell_type": "code",
   "execution_count": 5,
   "metadata": {},
   "outputs": [
    {
     "data": {
      "text/plain": [
       "<matplotlib.axes._subplots.AxesSubplot at 0x108905978>"
      ]
     },
     "execution_count": 5,
     "metadata": {},
     "output_type": "execute_result"
    },
    {
     "data": {
      "image/png": "[encoded data removed]",
      "text/plain": [
       "<Figure size 432x288 with 1 Axes>"
      ]
     },
     "metadata": {
      "needs_background": "light"
     },
     "output_type": "display_data"
    }
   ],
   "source": [
    "#Wanting to know the null (empty) spots in the dataset that we should be aware of\n",
    "sns.heatmap(df.isnull(),yticklabels=False,cbar=False)"
   ]
  },
  {
   "cell_type": "markdown",
   "metadata": {},
   "source": [
    "The heatmap shows the empty cells that are in the dataset, showing what data we can base our model off of and what assumptions have to be made. "
   ]
  },
  {
   "cell_type": "markdown",
   "metadata": {},
   "source": [
    "- Restaurant grade data has multiple empty cells, won't be great to get meaningful results unless we can fill these cells."
   ]
  },
  {
   "cell_type": "markdown",
   "metadata": {},
   "source": [
    "- The restaurant score is what determines the grade, this can be used to fill the grade column"
   ]
  },
  {
   "cell_type": "markdown",
   "metadata": {},
   "source": [
    "# Step 2\n",
    "## Data Cleaning - Score and Grade columns \n",
    "- Removing the empty score columns (4% of the data), and filling in the empty grade columns (50%)"
   ]
  },
  {
   "cell_type": "code",
   "execution_count": 6,
   "metadata": {
    "scrolled": true
   },
   "outputs": [
    {
     "data": {
      "text/plain": [
       "False    202305\n",
       "True     198430\n",
       "Name: GRADE, dtype: int64"
      ]
     },
     "execution_count": 6,
     "metadata": {},
     "output_type": "execute_result"
    }
   ],
   "source": [
    "#number of empty cells in GRADE column\n",
    "df['GRADE'].isnull().value_counts()"
   ]
  },
  {
   "cell_type": "code",
   "execution_count": 7,
   "metadata": {},
   "outputs": [
    {
     "data": {
      "text/plain": [
       "False    383588\n",
       "True      17147\n",
       "Name: SCORE, dtype: int64"
      ]
     },
     "execution_count": 7,
     "metadata": {},
     "output_type": "execute_result"
    }
   ],
   "source": [
    "#number of empty cells in SCORE column\n",
    "df['SCORE'].isnull().value_counts()"
   ]
  },
  {
   "cell_type": "code",
   "execution_count": 8,
   "metadata": {},
   "outputs": [],
   "source": [
    "#about 4.3% of the score data is unknown, don't have a reasonable number to replace these empty spots \n",
    "#so these data points will be dropped\n",
    "df_1 = df.dropna(subset=['SCORE'])"
   ]
  },
  {
   "cell_type": "code",
   "execution_count": 9,
   "metadata": {},
   "outputs": [],
   "source": [
    "#function to use the Score to assign a grade when GRADE column cell is empty\n",
    "#regulations say an A is 0-13, B is 13-27, C is anything above\n",
    "\n",
    "def impute_grade(cols):\n",
    "    GRADE = cols[0]\n",
    "    SCORE = cols[1]\n",
    "    \n",
    "    if pd.isnull(GRADE):\n",
    "\n",
    "        if SCORE > 27:\n",
    "            return 'C'\n",
    "\n",
    "        elif SCORE  <= 13:\n",
    "            return 'A'\n",
    "\n",
    "        else:\n",
    "            return 'B'\n",
    "\n",
    "    else:\n",
    "        return GRADE"
   ]
  },
  {
   "cell_type": "code",
   "execution_count": 10,
   "metadata": {},
   "outputs": [
    {
     "data": {
      "text/plain": [
       "False    202294\n",
       "True     181294\n",
       "Name: GRADE, dtype: int64"
      ]
     },
     "execution_count": 10,
     "metadata": {},
     "output_type": "execute_result"
    }
   ],
   "source": [
    "#number of empty cells in GRADE column in new df_1 dataframe (dropped empty scores)\n",
    "df_1['GRADE'].isnull().value_counts()"
   ]
  },
  {
   "cell_type": "code",
   "execution_count": 75,
   "metadata": {
    "scrolled": true
   },
   "outputs": [],
   "source": [
    "#applying the function to our data to fill in empty grade cells and heatmap to check this\n",
    "df_1.loc[:,'GRADE'] = df_1[['GRADE','SCORE']].apply(impute_grade,axis=1)"
   ]
  },
  {
   "cell_type": "code",
   "execution_count": 12,
   "metadata": {},
   "outputs": [
    {
     "data": {
      "text/plain": [
       "<matplotlib.axes._subplots.AxesSubplot at 0x1a1c1d70f0>"
      ]
     },
     "execution_count": 12,
     "metadata": {},
     "output_type": "execute_result"
    },
    {
     "data": {
      "image/png": "[encoded data removed]",
      "text/plain": [
       "<Figure size 432x288 with 1 Axes>"
      ]
     },
     "metadata": {
      "needs_background": "light"
     },
     "output_type": "display_data"
    }
   ],
   "source": [
    "#checking if the function replaced the empty grade columns\n",
    "sns.heatmap(df_1.isnull(),yticklabels=False,cbar=False)"
   ]
  },
  {
   "cell_type": "markdown",
   "metadata": {},
   "source": [
    "# Step 3\n",
    "## Data cleaning - Borough column"
   ]
  },
  {
   "cell_type": "code",
   "execution_count": 14,
   "metadata": {},
   "outputs": [
    {
     "data": {
      "text/plain": [
       "False    383588\n",
       "Name: BORO, dtype: int64"
      ]
     },
     "execution_count": 14,
     "metadata": {},
     "output_type": "execute_result"
    }
   ],
   "source": [
    "#Confirming there are no empty cells in the BORO column, the heatmap shows there isn't\n",
    "df_1['BORO'].isnull().value_counts()"
   ]
  },
  {
   "cell_type": "code",
   "execution_count": 15,
   "metadata": {
    "scrolled": true
   },
   "outputs": [
    {
     "name": "stdout",
     "output_type": "stream",
     "text": [
      "Manhattan        151007\n",
      "Brooklyn          97159\n",
      "Queens            87776\n",
      "Bronx             34866\n",
      "Staten Island     12704\n",
      "0                    76\n",
      "Name: BORO, dtype: int64\n"
     ]
    }
   ],
   "source": [
    "#Want to determine the number of restaurants in each borough. \n",
    "boro = df_1['BORO'].value_counts()\n",
    "print(boro)"
   ]
  },
  {
   "cell_type": "markdown",
   "metadata": {},
   "source": [
    "- 76 entries have 0 for the borough, but have zipcodes\n",
    "- Can use the zipcodes to determine what borough they are in "
   ]
  },
  {
   "cell_type": "code",
   "execution_count": 16,
   "metadata": {},
   "outputs": [
    {
     "data": {
      "text/plain": [
       "11249.0    57\n",
       "10168.0    14\n",
       "10285.0     5\n",
       "Name: ZIPCODE, dtype: int64"
      ]
     },
     "execution_count": 16,
     "metadata": {},
     "output_type": "execute_result"
    }
   ],
   "source": [
    "#Zipcodes for datapoints that Boro = 0 \n",
    "df_1[df_1['BORO']=='0']['ZIPCODE'].value_counts()"
   ]
  },
  {
   "cell_type": "markdown",
   "metadata": {},
   "source": [
    "- The zipcodes for the 0 data are associated with these boroughs\n",
    "- 11249 (Brooklyn)\n",
    "- 10168 and 10285 (Manhattan)\n",
    "- These will be inputted in place of 0"
   ]
  },
  {
   "cell_type": "code",
   "execution_count": 17,
   "metadata": {},
   "outputs": [],
   "source": [
    "#Replacing the 0 boroughs with brooklyn and manhattan\n",
    "df_1.loc[:,'BORO'] = np.where((df_1['ZIPCODE'] == 11249.0),'Brooklyn', df_1['BORO']) \n",
    "df_1.loc[:,'BORO'] = np.where((df_1['ZIPCODE'] == 10168.0)|(df_1['ZIPCODE'] == 10285.0),'Manhattan', df_1['BORO']) "
   ]
  },
  {
   "cell_type": "code",
   "execution_count": 19,
   "metadata": {},
   "outputs": [
    {
     "data": {
      "text/plain": [
       "Manhattan        151026\n",
       "Brooklyn          97216\n",
       "Queens            87776\n",
       "Bronx             34866\n",
       "Staten Island     12704\n",
       "Name: BORO, dtype: int64"
      ]
     },
     "execution_count": 19,
     "metadata": {},
     "output_type": "execute_result"
    }
   ],
   "source": [
    "#checking the data frame again to confirm 0 has been replaced with Manhattan and Brooklyn \n",
    "df_1['BORO'].value_counts()"
   ]
  },
  {
   "cell_type": "code",
   "execution_count": 33,
   "metadata": {},
   "outputs": [
    {
     "data": {
      "image/png": "[encoded data removed]",
      "text/plain": [
       "<Figure size 432x288 with 1 Axes>"
      ]
     },
     "metadata": {
      "needs_background": "light"
     },
     "output_type": "display_data"
    }
   ],
   "source": [
    "#plotting the data\n",
    "sns.countplot(x='BORO', data = df_1)\n",
    "plt.title('Amount of Restaurants in each Borough')\n",
    "plt.show()"
   ]
  },
  {
   "cell_type": "code",
   "execution_count": 22,
   "metadata": {
    "scrolled": true
   },
   "outputs": [
    {
     "data": {
      "image/png": "[encoded data removed]",
      "text/plain": [
       "<Figure size 432x288 with 1 Axes>"
      ]
     },
     "metadata": {
      "needs_background": "light"
     },
     "output_type": "display_data"
    }
   ],
   "source": [
    "#plotting the data percent\n",
    "boro_percent = df_1['BORO'].value_counts(normalize=True) * 100\n",
    "boro_percent.plot.bar()\n",
    "\n",
    "plt.ylim(0,100)\n",
    "plt.title('Percentage of Restaurants in each Borough')\n",
    "plt.ylabel('Percentage')\n",
    "plt.show()"
   ]
  },
  {
   "cell_type": "markdown",
   "metadata": {},
   "source": [
    "# Step 4 \n",
    "## A, B, C Grade distribution depending on borough"
   ]
  },
  {
   "cell_type": "code",
   "execution_count": 24,
   "metadata": {},
   "outputs": [],
   "source": [
    "#Setting a dataframe that only takes A, B, C inspection grades into account \n",
    "#not sure what P,N,G,Z mean but a small percentage of the data\n",
    "\n",
    "A_B_C_df = df_1[(df_1['GRADE'] == 'A')|(df_1['GRADE'].isin(['B','C']))]"
   ]
  },
  {
   "cell_type": "code",
   "execution_count": 35,
   "metadata": {},
   "outputs": [
    {
     "data": {
      "image/png": "[encoded data removed]",
      "text/plain": [
       "<Figure size 432x288 with 1 Axes>"
      ]
     },
     "metadata": {
      "needs_background": "light"
     },
     "output_type": "display_data"
    }
   ],
   "source": [
    "#count plot showing the distribution\n",
    "sns.countplot(x='BORO',hue='GRADE', data = A_B_C_df)\n",
    "plt.title('Grade distribution by amount for each borough')\n",
    "plt.show()"
   ]
  },
  {
   "cell_type": "markdown",
   "metadata": {},
   "source": [
    "- To determine if there is a bias for certain grades by certain boroughs a countplot isn't enough\n",
    "- The data needs to be normalized to see this\n",
    "- Taking the percentage of A, B, C grades for each borough will give a normalized comparison"
   ]
  },
  {
   "cell_type": "code",
   "execution_count": 29,
   "metadata": {},
   "outputs": [],
   "source": [
    "#percentage comparison to see if there is a bias by borough for grade, for a normalized comparison\n",
    "queens_percent = A_B_C_df[A_B_C_df['BORO'] == 'Queens']['GRADE'].value_counts(normalize = True, dropna=False) *100\n",
    "brooklyn_percent= A_B_C_df[A_B_C_df['BORO'] == 'Brooklyn']['GRADE'].value_counts(normalize = True, dropna=False) *100\n",
    "manhattan_percent = A_B_C_df[A_B_C_df['BORO'] == 'Manhattan']['GRADE'].value_counts(normalize = True, dropna=False) *100\n",
    "bronx_percent = A_B_C_df[A_B_C_df['BORO'] == 'Bronx']['GRADE'].value_counts(normalize = True, dropna=False) *100\n",
    "staten_percent = A_B_C_df[A_B_C_df['BORO'] == 'Staten Island']['GRADE'].value_counts(normalize = True, dropna=False) *100"
   ]
  },
  {
   "cell_type": "code",
   "execution_count": 32,
   "metadata": {},
   "outputs": [
    {
     "data": {
      "image/png": "[encoded data removed]",
      "text/plain": [
       "<Figure size 432x288 with 1 Axes>"
      ]
     },
     "metadata": {
      "needs_background": "light"
     },
     "output_type": "display_data"
    }
   ],
   "source": [
    "#plotting percentage bar graph\n",
    "percent_combined = pd.DataFrame({'Queens': queens_percent, 'Brooklyn': brooklyn_percent, 'Manhattan':manhattan_percent,'Bronx':bronx_percent,'Staten Island':staten_percent})\n",
    "transpose_percent_combined = percent_combined.transpose()\n",
    "\n",
    "transpose_percent_combined.plot.bar()\n",
    "plt.ylim(0,100)\n",
    "plt.ylabel('Percentage')\n",
    "plt.title('Percentage Grade Distribution by Borough')\n",
    "plt.show()"
   ]
  },
  {
   "cell_type": "markdown",
   "metadata": {},
   "source": [
    "- Countplot shows there are significantly more restaurants in Manhattan/Queens compared to Staten Island\n",
    "- The normalized data shows there seems to be an almost equal distribution between letter grades for each borough\n",
    "- Almost 50% A grades, 30% B grades, and 20% C grades for each borough\n",
    "- Proving there is not a clear bias in terms of grades due to borough"
   ]
  },
  {
   "cell_type": "markdown",
   "metadata": {},
   "source": [
    "# Step 5\n",
    "## Grade distribution depending on cuisine"
   ]
  },
  {
   "cell_type": "code",
   "execution_count": 36,
   "metadata": {},
   "outputs": [
    {
     "name": "stdout",
     "output_type": "stream",
     "text": [
      "American                                                            80288\n",
      "Chinese                                                             40915\n",
      "Café/Coffee/Tea                                                     18693\n",
      "Latin (Cuban, Dominican, Puerto Rican, South & Central American)    16861\n",
      "Pizza                                                               16820\n",
      "Mexican                                                             15914\n",
      "Italian                                                             15581\n",
      "Japanese                                                            13998\n",
      "Caribbean                                                           13778\n",
      "Bakery                                                              12065\n",
      "Name: CUISINE DESCRIPTION, dtype: int64\n"
     ]
    }
   ],
   "source": [
    "#determing the top 10 cuisine types in the dataframe\n",
    "print(df_1['CUISINE DESCRIPTION'].value_counts().head(10))"
   ]
  },
  {
   "cell_type": "code",
   "execution_count": 37,
   "metadata": {},
   "outputs": [],
   "source": [
    "#organizing data into separate Cuisines, using the top 10 cuisines\n",
    "American = A_B_C_df[A_B_C_df['CUISINE DESCRIPTION'] == 'American']['GRADE'].value_counts()\n",
    "Chinese = A_B_C_df[A_B_C_df['CUISINE DESCRIPTION'] == 'Chinese']['GRADE'].value_counts()\n",
    "Cafe_Coffee_Tea = A_B_C_df[A_B_C_df['CUISINE DESCRIPTION'] == 'Café/Coffee/Tea']['GRADE'].value_counts()\n",
    "Latin = A_B_C_df[A_B_C_df['CUISINE DESCRIPTION'] == 'Latin (Cuban, Dominican, Puerto Rican, South & Central American)']['GRADE'].value_counts()\n",
    "Pizza = A_B_C_df[A_B_C_df['CUISINE DESCRIPTION'] == 'Pizza']['GRADE'].value_counts()\n",
    "Mexican = A_B_C_df[A_B_C_df['CUISINE DESCRIPTION'] == 'Mexican']['GRADE'].value_counts()\n",
    "Italian = A_B_C_df[A_B_C_df['CUISINE DESCRIPTION'] == 'Italian']['GRADE'].value_counts()\n",
    "Caribbean = A_B_C_df[A_B_C_df['CUISINE DESCRIPTION'] == 'Caribbean']['GRADE'].value_counts()\n",
    "Japanese = A_B_C_df[A_B_C_df['CUISINE DESCRIPTION'] == 'Japanese']['GRADE'].value_counts()\n",
    "Spanish = A_B_C_df[A_B_C_df['CUISINE DESCRIPTION'] == 'Spanish']['GRADE'].value_counts()"
   ]
  },
  {
   "cell_type": "code",
   "execution_count": 39,
   "metadata": {},
   "outputs": [
    {
     "data": {
      "image/png": "[encoded data removed]",
      "text/plain": [
       "<Figure size 432x288 with 1 Axes>"
      ]
     },
     "metadata": {
      "needs_background": "light"
     },
     "output_type": "display_data"
    }
   ],
   "source": [
    "#combining the separated dataframes to make a bar graph comparing the inspection grades\n",
    "grade_combo = pd.DataFrame({'American': American, 'Chinese': Chinese, 'Cafe/Coffee/Tea': Cafe_Coffee_Tea,'Latin': Latin,'Pizza':Pizza,'Mexican':Mexican,'Italian':Italian,'Caribbean':Caribbean, 'Japanese':Japanese,'Spanish': Spanish})\n",
    "transpose_grade_combo = grade_combo.transpose()\n",
    "\n",
    "\n",
    "transpose_grade_combo.plot.barh()\n",
    "plt.title('Amount of each letter grade by top 10 Cuisines')\n",
    "plt.xlabel('Count')\n",
    "plt.show()"
   ]
  },
  {
   "cell_type": "markdown",
   "metadata": {},
   "source": [
    "- The countplot shows that there are significantly more American restaurants compared to all others, they have the highest number of A, B, and C grades\n",
    "- To get an idea of any bias, the data will be normalized to percentage for a better comparison"
   ]
  },
  {
   "cell_type": "code",
   "execution_count": 41,
   "metadata": {},
   "outputs": [],
   "source": [
    "#Converting to percentages for a normalized comparison\n",
    "American_p = A_B_C_df[A_B_C_df['CUISINE DESCRIPTION'] == 'American']['GRADE'].value_counts(normalize = True, dropna=False) *100\n",
    "Chinese_p = A_B_C_df[A_B_C_df['CUISINE DESCRIPTION'] == 'Chinese']['GRADE'].value_counts(normalize = True, dropna=False) *100\n",
    "Cafe_Coffee_Tea_p = A_B_C_df[A_B_C_df['CUISINE DESCRIPTION'] == 'Café/Coffee/Tea']['GRADE'].value_counts(normalize = True, dropna=False) *100\n",
    "Latin_p = A_B_C_df[A_B_C_df['CUISINE DESCRIPTION'] == 'Latin (Cuban, Dominican, Puerto Rican, South & Central American)']['GRADE'].value_counts(normalize = True, dropna=False) *100\n",
    "Pizza_p = A_B_C_df[A_B_C_df['CUISINE DESCRIPTION'] == 'Pizza']['GRADE'].value_counts(normalize = True, dropna=False) *100\n",
    "Mexican_p = A_B_C_df[A_B_C_df['CUISINE DESCRIPTION'] == 'Mexican']['GRADE'].value_counts(normalize = True, dropna=False) *100\n",
    "Italian_p = A_B_C_df[A_B_C_df['CUISINE DESCRIPTION'] == 'Italian']['GRADE'].value_counts(normalize = True, dropna=False) *100\n",
    "Caribbean_p = A_B_C_df[A_B_C_df['CUISINE DESCRIPTION'] == 'Caribbean']['GRADE'].value_counts(normalize = True, dropna=False) *100\n",
    "Japanese_p = A_B_C_df[A_B_C_df['CUISINE DESCRIPTION'] == 'Japanese']['GRADE'].value_counts(normalize = True, dropna=False) *100\n",
    "Spanish_p = A_B_C_df[A_B_C_df['CUISINE DESCRIPTION'] == 'Spanish']['GRADE'].value_counts(normalize = True, dropna=False) *100"
   ]
  },
  {
   "cell_type": "code",
   "execution_count": 42,
   "metadata": {},
   "outputs": [
    {
     "data": {
      "image/png": "[encoded data removed]",
      "text/plain": [
       "<Figure size 432x288 with 1 Axes>"
      ]
     },
     "metadata": {
      "needs_background": "light"
     },
     "output_type": "display_data"
    }
   ],
   "source": [
    "#plotting the percentage comparison\n",
    "grade_combo_p = pd.DataFrame({'American': American_p, 'Chinese': Chinese_p, 'Cafe/Coffee/Tea': Cafe_Coffee_Tea_p,'Latin': Latin_p,'Pizza':Pizza_p,'Mexican':Mexican_p,'Italian':Italian_p,'Caribbean':Caribbean_p, 'Japanese':Japanese_p,'Spanish': Spanish_p})\n",
    "transpose_grade_combo_p = grade_combo_p.transpose()\n",
    "\n",
    "\n",
    "transpose_grade_combo_p.plot.barh()\n",
    "plt.xlim(0,100)\n",
    "plt.title('Percentage of Grades by Top 10 Cuisines')\n",
    "plt.xlabel('Percentage')\n",
    "plt.show()"
   ]
  },
  {
   "cell_type": "markdown",
   "metadata": {},
   "source": [
    "- Cafe/Coffee/Tea restaurants have about 60% A grades, the highest percentage. \n",
    "- This could be due to the fact that they do not do as much food handling or cooking so it is easier to keep the place up to health code standards compared to a restaurant.\n",
    "- Spanish, Caribbean, and Latin food have the lowest percentage of A grades and the highest percentage of C grades.\n",
    "- Meaning you are more likely to see a spanish, carribean, latin restaurant with a C grade compared to seeing a Cafe with a C grade. \n",
    "- This could potentially be a bias in grading or just how their food is prepared "
   ]
  },
  {
   "cell_type": "markdown",
   "metadata": {},
   "source": [
    "# Step 6\n",
    "\n",
    "## Health inspection score distrubition  "
   ]
  },
  {
   "cell_type": "code",
   "execution_count": 43,
   "metadata": {},
   "outputs": [],
   "source": [
    "A_score = df_1[df_1['SCORE'] <= 13]\n",
    "B_score = df_1[(df_1['SCORE'] > 13) & (df_1['SCORE'] <=27 )]\n",
    "C_score = df_1[df_1['SCORE'] > 27]"
   ]
  },
  {
   "cell_type": "code",
   "execution_count": 45,
   "metadata": {},
   "outputs": [
    {
     "data": {
      "image/png": "[encoded data removed]",
      "text/plain": [
       "<Figure size 432x288 with 1 Axes>"
      ]
     },
     "metadata": {
      "needs_background": "light"
     },
     "output_type": "display_data"
    }
   ],
   "source": [
    "A_score['SCORE'].hist(bins=13)\n",
    "B_score['SCORE'].hist(bins=13)\n",
    "C_score['SCORE'].hist(bins=90)\n",
    "plt.xlim(0,120)\n",
    "plt.xlabel('Health Inspection Score')\n",
    "plt.ylabel('Count')\n",
    "plt.legend(['A','B','C'])\n",
    "plt.show()"
   ]
  },
  {
   "cell_type": "markdown",
   "metadata": {},
   "source": [
    "- This histogram shows there is a large dropoff from going from an A to B grade.\n",
    "- Most restaurants scored a 13, which results in an A grade, and one more point a 14 would result in a B grade\n",
    "- Shows inspectors do want to help restaurants by not giving them a lower grade which would hurt business significantly"
   ]
  },
  {
   "cell_type": "markdown",
   "metadata": {},
   "source": [
    "# Step 7\n",
    "\n",
    "## Critical or not critical restaurants and violations that cause them \n",
    "\n",
    "- We want to know what causes a critical flag in health inspection ratings\n",
    "- It is not necessarily the score\n",
    "- To do this we need to know the inspection type, the actions, and the violation descriptions"
   ]
  },
  {
   "cell_type": "code",
   "execution_count": 48,
   "metadata": {},
   "outputs": [
    {
     "data": {
      "text/plain": [
       "Cycle Inspection / Initial Inspection                          233985\n",
       "Cycle Inspection / Re-inspection                                96560\n",
       "Pre-permit (Operational) / Initial Inspection                   28055\n",
       "Pre-permit (Operational) / Re-inspection                        12307\n",
       "Cycle Inspection / Reopening Inspection                          4486\n",
       "Pre-permit (Non-operational) / Initial Inspection                3512\n",
       "Pre-permit (Operational) / Compliance Inspection                 1281\n",
       "Pre-permit (Operational) / Reopening Inspection                  1093\n",
       "Inter-Agency Task Force / Initial Inspection                     1088\n",
       "Cycle Inspection / Compliance Inspection                          725\n",
       "Pre-permit (Non-operational) / Re-inspection                      347\n",
       "Pre-permit (Operational) / Second Compliance Inspection           101\n",
       "Pre-permit (Non-operational) / Compliance Inspection               32\n",
       "Cycle Inspection / Second Compliance Inspection                    14\n",
       "Administrative Miscellaneous / Re-inspection                        1\n",
       "Pre-permit (Non-operational) / Second Compliance Inspection         1\n",
       "Name: INSPECTION TYPE, dtype: int64"
      ]
     },
     "execution_count": 48,
     "metadata": {},
     "output_type": "execute_result"
    }
   ],
   "source": [
    "#Understanding the Inspection type each restaurant was having\n",
    "df_1['INSPECTION TYPE'].value_counts()"
   ]
  },
  {
   "cell_type": "code",
   "execution_count": 49,
   "metadata": {},
   "outputs": [
    {
     "data": {
      "text/plain": [
       "Violations were cited in the following area(s).                                                                                        361588\n",
       "Establishment Closed by DOHMH.  Violations were cited in the following area(s) and those requiring immediate action were addressed.     15239\n",
       "Establishment re-opened by DOHMH                                                                                                         4373\n",
       "No violations were recorded at the time of this inspection.                                                                              1263\n",
       "Establishment re-closed by DOHMH                                                                                                         1125\n",
       "Name: ACTION, dtype: int64"
      ]
     },
     "execution_count": 49,
     "metadata": {},
     "output_type": "execute_result"
    }
   ],
   "source": [
    "#Understanding the Actions taken from the inspection\n",
    "df_1['ACTION'].value_counts()"
   ]
  },
  {
   "cell_type": "code",
   "execution_count": 50,
   "metadata": {},
   "outputs": [
    {
     "data": {
      "text/plain": [
       "Non-food contact surface improperly constructed. Unacceptable material used. Non-food contact surface or equipment improperly maintained and/or not properly sealed, raised, spaced or movable to allow accessibility for cleaning on all sides, above and underneath the unit.                      56880\n",
       "Facility not vermin proof. Harborage or conditions conducive to attracting vermin to the premises and/or allowing vermin to exist.                                                                                                                                                                   44633\n",
       "Evidence of mice or live mice present in facility's food and/or non-food areas.                                                                                                                                                                                                                      29767\n",
       "Food contact surface not properly washed, rinsed and sanitized after each use and following any activity when contamination may have occurred.                                                                                                                                                       27412\n",
       "Food not protected from potential source of contamination during storage, preparation, transportation, display or service.                                                                                                                                                                           24405\n",
       "Plumbing not properly installed or maintained; anti-siphonage or backflow prevention device not provided where required; equipment or floor not properly drained; sewage disposal system in disrepair or not functioning properly.                                                                   23504\n",
       "Cold food item held above 41º F (smoked fish and reduced oxygen packaged foods above 38 ºF) except during necessary preparation.                                                                                                                                                                     22979\n",
       "Filth flies or food/refuse/sewage-associated (FRSA) flies present in facility’s food and/or non-food areas. Filth flies include house flies, little house flies, blow flies, bottle flies and flesh flies. Food/refuse/sewage-associated flies include fruit flies, drain flies and Phorid flies.    21341\n",
       "Hot food item not held at or above 140º F.                                                                                                                                                                                                                                                           20420\n",
       "Live roaches present in facility's food and/or non-food areas.                                                                                                                                                                                                                                        8895\n",
       "Raw, cooked or prepared food is adulterated, contaminated, cross-contaminated, or not discarded in accordance with HACCP plan.                                                                                                                                                                        8714\n",
       "Sanitized equipment or utensil, including in-use food dispensing utensil, improperly used or stored.                                                                                                                                                                                                  7523\n",
       "Food Protection Certificate not held by supervisor of food operations.                                                                                                                                                                                                                                7143\n",
       "Wiping cloths soiled or not stored in sanitizing solution.                                                                                                                                                                                                                                            6878\n",
       "Food contact surface not properly maintained.                                                                                                                                                                                                                                                         6636\n",
       "Personal cleanliness inadequate. Outer garment soiled with possible contaminant.  Effective hair restraint not worn in an area where food is prepared.                                                                                                                                                6592\n",
       "Pesticide use not in accordance with label or applicable laws. Prohibited chemical used/stored. Open bait station used.                                                                                                                                                                               6486\n",
       "Proper sanitization not provided for utensil ware washing operation.                                                                                                                                                                                                                                  6473\n",
       "Food not cooled by an approved method whereby the internal product temperature is reduced from 140º F to 70º F or less within 2 hours, and from 70º F to 41º F or less within 4 additional hours.                                                                                                     6166\n",
       "Thawing procedures improper.                                                                                                                                                                                                                                                                          4353\n",
       "Single service item reused, improperly stored, dispensed; not used when required.                                                                                                                                                                                                                     4056\n",
       "Hand washing facility not provided in or near food preparation area and toilet room. Hot and cold running water at adequate pressure to enable cleanliness of employees not provided at facility. Soap and an acceptable hand-drying device not provided.                                             3810\n",
       "Tobacco use, eating, or drinking from open container in food preparation, food storage or dishwashing area observed.                                                                                                                                                                                  2738\n",
       "Evidence of rats or live rats present in facility's food and/or non-food areas.                                                                                                                                                                                                                       2716\n",
       "Food worker does not use proper utensil to eliminate bare hand contact with food that will not receive adequate additional heat treatment.                                                                                                                                                            2676\n",
       "Accurate thermometer not provided in refrigerated or hot holding equipment.                                                                                                                                                                                                                           2539\n",
       "\"\"Wash hands” sign not posted at hand wash facility.                                                                                                                                                                                                                                                  1841\n",
       "Appropriately scaled metal stem-type thermometer or thermocouple not provided or used to evaluate temperatures of potentially hazardous foods during cooking, cooling, reheating and holding.                                                                                                         1687\n",
       "Mechanical or natural ventilation system not provided, improperly installed, in disrepair and/or fails to prevent excessive build-up of grease, heat, steam condensation vapors, odors, smoke, and fumes.                                                                                             1582\n",
       "Canned food product observed dented and not segregated from other consumable food items.                                                                                                                                                                                                              1161\n",
       "                                                                                                                                                                                                                                                                                                     ...  \n",
       "Hot food item that has been cooked and refrigerated is being held for service without first being reheated to 1 65º F or above within 2 hours.                                                                                                                                                         482\n",
       "Covered garbage receptacle not provided or inadequate, except that garbage receptacle may be uncovered during active use. Garbage storage area not properly constructed or maintained; grinder or compactor dirty.                                                                                     434\n",
       "Lighting inadequate; permanent lighting not provided in food preparation areas, ware washing areas, and storage rooms.                                                                                                                                                                                 397\n",
       "Toxic chemical improperly labeled, stored or used such that food contamination may occur.                                                                                                                                                                                                              367\n",
       "Food not cooked to required minimum temperature.                                                                                                                                                                                                                                                       307\n",
       "Live animals other than fish in tank or service animal present in facility's food and/or non-food areas.                                                                                                                                                                                               271\n",
       "Food, food preparation area, food storage area, area used by employees or patrons, contaminated by sewage or liquid waste.                                                                                                                                                                             265\n",
       "Shellfish not from approved source, improperly tagged/labeled; tags not retained for 90 days.                                                                                                                                                                                                          219\n",
       "Toilet facility not provided for employees or for patrons when required.                                                                                                                                                                                                                               212\n",
       "Sewage disposal system improper or unapproved.                                                                                                                                                                                                                                                         206\n",
       "Food worker does not wash hands thoroughly after using the toilet, coughing, sneezing, smoking, eating, preparing raw foods or otherwise contaminating hands.                                                                                                                                          194\n",
       "HACCP plan not approved or approved HACCP plan not maintained on premises.                                                                                                                                                                                                                             150\n",
       "Harmful, noxious gas or vapor detected. CO ~1 3 ppm.                                                                                                                                                                                                                                                   117\n",
       "Eggs found dirty/cracked; liquid, frozen or powdered eggs not pasteurized.                                                                                                                                                                                                                              79\n",
       "Precooked potentially hazardous food from commercial food processing establishment that is supposed to be heated, but is not heated to 140º F within 2 hours.                                                                                                                                           58\n",
       "Food service operation occurring in room used as living or sleeping quarters.                                                                                                                                                                                                                           57\n",
       "Duties of an officer of the Department interfered with or obstructed.                                                                                                                                                                                                                                   37\n",
       "Potable water supply inadequate. Water or ice not potable or from unapproved source.  Cross connection in potable water supply system observed.                                                                                                                                                         31\n",
       "Meat, fish or molluscan shellfish served raw or undercooked without prior notification to customer.                                                                                                                                                                                                     24\n",
       "Food worker prepares food or handles utensil when ill with a disease transmissible by food, or have exposed infected cut or burn on hand.                                                                                                                                                               20\n",
       "Raw food not properly washed prior to serving.                                                                                                                                                                                                                                                          15\n",
       "Records and logs not maintained to demonstrate that HACCP plan has been properly implemented.                                                                                                                                                                                                           14\n",
       "Food not labeled in accordance with HACCP plan.                                                                                                                                                                                                                                                         13\n",
       "Canned food product observed swollen, leaking or rusted, and not segregated from other consumable food items .                                                                                                                                                                                          12\n",
       "Unprotected potentially hazardous food re-served.                                                                                                                                                                                                                                                        5\n",
       "Whole frozen poultry or poultry breasts, other than a single portion, is being cooked frozen or partially thawed.                                                                                                                                                                                        4\n",
       "Unpasteurized milk or milk product present.                                                                                                                                                                                                                                                              4\n",
       "Reduced oxygen packaged (ROP) foods not cooled by an approved method whereby the internal food temperature is reduced to 38º F within two hours of cooking and if necessary further cooled to a temperature of 34º F within six hours of reaching 38º F.                                                 1\n",
       "Unprotected food re-served.                                                                                                                                                                                                                                                                              1\n",
       "Current letter grade card not posted.                                                                                                                                                                                                                                                                    1\n",
       "Name: VIOLATION DESCRIPTION, Length: 66, dtype: int64"
      ]
     },
     "execution_count": 50,
     "metadata": {},
     "output_type": "execute_result"
    }
   ],
   "source": [
    "#Description of the various violations in the dataframes\n",
    "df_1['VIOLATION DESCRIPTION'].value_counts()"
   ]
  },
  {
   "cell_type": "code",
   "execution_count": 51,
   "metadata": {},
   "outputs": [],
   "source": [
    "#dropping empty dataframes in the violations description\n",
    "df_violation_description = df_1.dropna(subset=['VIOLATION DESCRIPTION'])"
   ]
  },
  {
   "cell_type": "code",
   "execution_count": 56,
   "metadata": {},
   "outputs": [
    {
     "name": "stdout",
     "output_type": "stream",
     "text": [
      "Mice = 29767\n",
      "Roaches = 8895\n",
      "Flies = 21341\n",
      "Rats = 2716\n",
      "Vermin = 44633\n",
      "Other Violations = 273463\n",
      "Total Dataset = 380815\n"
     ]
    },
    {
     "data": {
      "image/png": "[encoded data removed]",
      "text/plain": [
       "<Figure size 432x288 with 1 Axes>"
      ]
     },
     "metadata": {
      "needs_background": "light"
     },
     "output_type": "display_data"
    }
   ],
   "source": [
    "#seems that mice, roaches, flies, rats and vermin are a cause for concern in these type of inspections\n",
    "#this code looks for the amount of times this is a problem in inspections and if they cause for a critical rating\n",
    "\n",
    "df_mice = df_violation_description[df_violation_description['VIOLATION DESCRIPTION'].str.contains('mice')]\n",
    "df_roaches = df_violation_description[df_violation_description['VIOLATION DESCRIPTION'].str.contains('roaches')]\n",
    "df_flies = df_violation_description[df_violation_description['VIOLATION DESCRIPTION'].str.contains('flies')]\n",
    "df_rats= df_violation_description[df_violation_description['VIOLATION DESCRIPTION'].str.contains('rats')]\n",
    "df_vermin = df_violation_description[df_violation_description['VIOLATION DESCRIPTION'].str.contains('vermin')]\n",
    "df_other = df_violation_description[~df_violation_description['VIOLATION DESCRIPTION'].str.contains('vermin|mice|roaches|flies|rats')]\n",
    "\n",
    "print('Mice = ' + str(len(df_mice)))\n",
    "print('Roaches = ' + str(len(df_roaches)))\n",
    "print('Flies = ' + str(len(df_flies)))\n",
    "print('Rats = ' + str(len(df_rats)))\n",
    "print('Vermin = ' + str(len(df_vermin)))\n",
    "print('Other Violations = '+ str(len(df_other)))\n",
    "print('Total Dataset = '+ str(len(df_violation_description)))\n",
    "\n",
    "mice = df_mice['CRITICAL FLAG'].value_counts()\n",
    "roaches = df_roaches['CRITICAL FLAG'].value_counts()\n",
    "flies = df_flies['CRITICAL FLAG'].value_counts()\n",
    "rats = df_rats['CRITICAL FLAG'].value_counts()\n",
    "vermin = df_vermin['CRITICAL FLAG'].value_counts()\n",
    "other = df_other['CRITICAL FLAG'].value_counts()\n",
    "\n",
    "combined = pd.DataFrame({'Mice': mice, 'Roaches':roaches, 'Flies':flies,'Rats':rats,'Vermin':vermin ,'Other Violations':other})\n",
    "transpose_combined = combined.transpose()\n",
    "\n",
    "transpose_combined.plot.bar()\n",
    "plt.title('Breakdown of Violations for Restaurants')\n",
    "plt.ylabel('Count')\n",
    "plt.legend(['Not Critical','Critical'])\n",
    "plt.show()\n",
    "\n"
   ]
  },
  {
   "cell_type": "markdown",
   "metadata": {},
   "source": [
    "- Vermin did not warrant a critical flag\n",
    "- Mice, roaches, flies, and rats all warranted a critical flag\n",
    "- If these were mentioned in the violation they were all flagged as critical"
   ]
  },
  {
   "cell_type": "markdown",
   "metadata": {},
   "source": [
    "# Step 8 \n",
    "\n",
    "## Restaurants in danger of being permanently closed \n",
    "\n",
    "- We want to know want what restuarants are in danger of closing due to health inspections\n",
    "- Do they have critical flags and are they mainly rodent problems?\n",
    "\n",
    "- Previous section shows that a restaurant in danger of closing is most likely has\n",
    "- Inspection Type labeled: 'cycle inspection/reoppening inspection' meaning it is already closed from a bad grade\n",
    "- Action: 'Establishment re-closed by DOHMH'meaning it failed inspection again and is still closed"
   ]
  },
  {
   "cell_type": "code",
   "execution_count": 59,
   "metadata": {},
   "outputs": [
    {
     "name": "stdout",
     "output_type": "stream",
     "text": [
      "Mice = 175\n",
      "Roaches = 81\n",
      "Flies = 57\n",
      "Rats = 18\n",
      "Vermin = 242\n",
      "Other = 209\n",
      "Total Dataset = 782\n"
     ]
    },
    {
     "data": {
      "image/png": "[encoded data removed]",
      "text/plain": [
       "<Figure size 432x288 with 1 Axes>"
      ]
     },
     "metadata": {
      "needs_background": "light"
     },
     "output_type": "display_data"
    }
   ],
   "source": [
    "#Restaurants in danger of closing that have rodent problems\n",
    "#meaning being re-closed on a cycle reinspection, meaning they failed again and can't reopen\n",
    "\n",
    "#finding these restaurants\n",
    "df_violation = df_violation_description[(df_violation_description['ACTION']=='Establishment re-closed by DOHMH') & (df_violation_description['INSPECTION TYPE']=='Cycle Inspection / Reopening Inspection')]\n",
    "\n",
    "#dividing the restaurants depending on their violation\n",
    "df_reclosed_mice = df_violation[df_violation['VIOLATION DESCRIPTION'].str.contains('mice')]\n",
    "df_reclosed_roaches = df_violation[df_violation['VIOLATION DESCRIPTION'].str.contains('roaches')]\n",
    "df_reclosed_flies = df_violation[df_violation['VIOLATION DESCRIPTION'].str.contains('flies')]\n",
    "df_reclosed_rats = df_violation[df_violation['VIOLATION DESCRIPTION'].str.contains('rats')]\n",
    "df_reclosed_vermin = df_violation[df_violation['VIOLATION DESCRIPTION'].str.contains('vermin')]\n",
    "#Making a \"Other\" set showing the restaurants in this closure data that don't have these pest issues\n",
    "df_reclosed_other = df_violation[~df_violation['VIOLATION DESCRIPTION'].str.contains('vermin|mice|roaches|flies|rats')]\n",
    "\n",
    "#Determining the length of each dataframe\n",
    "print('Mice = ' + str(len(df_reclosed_mice)))\n",
    "print('Roaches = ' + str(len(df_reclosed_roaches)))\n",
    "print('Flies = ' + str(len(df_reclosed_flies)))\n",
    "print('Rats = ' + str(len(df_reclosed_rats)))\n",
    "print('Vermin = ' + str(len(df_reclosed_vermin)))\n",
    "print('Other = ' + str(len(df_reclosed_other)))\n",
    "print('Total Dataset = '+ str(len(df_violation)))\n",
    "\n",
    "#Finding which violations are critical Y/N in each new dataframe\n",
    "reclosed_mice = df_reclosed_mice['CRITICAL FLAG'].value_counts()\n",
    "reclosed_roaches = df_reclosed_roaches['CRITICAL FLAG'].value_counts()\n",
    "reclosed_flies = df_reclosed_flies['CRITICAL FLAG'].value_counts()\n",
    "reclosed_rats = df_reclosed_rats['CRITICAL FLAG'].value_counts()\n",
    "reclosed_vermin = df_reclosed_vermin['CRITICAL FLAG'].value_counts()\n",
    "reclosed_other = df_reclosed_other['CRITICAL FLAG'].value_counts()\n",
    "\n",
    "#Combining this data into one dataframe to make a bar plot\n",
    "reclosed_combined = pd.DataFrame({'Mice': reclosed_mice, 'Roaches':reclosed_roaches, 'Flies':reclosed_flies,'Rats':reclosed_rats,'Vermin':reclosed_vermin ,'Other Violations':reclosed_other})\n",
    "transpose_reclosed_combined = reclosed_combined.transpose()\n",
    "\n",
    "#Making a bar plot of this data\n",
    "transpose_reclosed_combined.plot.bar()\n",
    "plt.title('Breakdown of Violations for Re-Closed Restaurants during a Cycle Inspection')\n",
    "plt.ylabel('Count')\n",
    "plt.legend(['Not Critical','Critical'])\n",
    "plt.show()\n"
   ]
  },
  {
   "cell_type": "markdown",
   "metadata": {},
   "source": [
    "- A high percentage of these restaurants have a critical score with rodent/vermin issues \n",
    "- Concluding that these violations warrant for a restaurant closure and need to be fixed in order to reopen a restaurant"
   ]
  },
  {
   "cell_type": "markdown",
   "metadata": {},
   "source": [
    "# Step 9\n",
    "\n",
    "## Restaurants in danger of being permanently closed on a map of Manhattan"
   ]
  },
  {
   "cell_type": "code",
   "execution_count": 60,
   "metadata": {},
   "outputs": [],
   "source": [
    "#Redoing what was done above, just cleaner and adding the 'reason' column to the dataframe\n",
    "df_violation.loc[:,'reason'] =pd.np.where(df_violation['VIOLATION DESCRIPTION'].str.contains('mice'), 'mice',\n",
    "                            pd.np.where(df_violation['VIOLATION DESCRIPTION'].str.contains('roaches'), 'roaches',\n",
    "                          pd.np.where(df_violation['VIOLATION DESCRIPTION'].str.contains('flies'), 'flies',\n",
    "                          pd.np.where(df_violation['VIOLATION DESCRIPTION'].str.contains('rats'), 'rats',\n",
    "                          pd.np.where(df_violation['VIOLATION DESCRIPTION'].str.contains('vermin'), 'vermin','other')))))"
   ]
  },
  {
   "cell_type": "code",
   "execution_count": 61,
   "metadata": {},
   "outputs": [
    {
     "data": {
      "text/plain": [
       "vermin     242\n",
       "other      209\n",
       "mice       175\n",
       "roaches     81\n",
       "flies       57\n",
       "rats        18\n",
       "Name: reason, dtype: int64"
      ]
     },
     "execution_count": 61,
     "metadata": {},
     "output_type": "execute_result"
    }
   ],
   "source": [
    "df_violation['reason'].value_counts()"
   ]
  },
  {
   "cell_type": "code",
   "execution_count": 62,
   "metadata": {},
   "outputs": [],
   "source": [
    "#importing the libraries for doing a geographical plot\n",
    "import geopandas as gpd\n",
    "from shapely.geometry import Point, Polygon\n",
    "import descartes\n",
    "from pyproj import CRS"
   ]
  },
  {
   "cell_type": "code",
   "execution_count": 63,
   "metadata": {},
   "outputs": [],
   "source": [
    "#importing the manhattan map that the data will be plotted on\n",
    "street_map = gpd.read_file('/Users/Brittney/Desktop/sh/nyu_2451_34522.shp')"
   ]
  },
  {
   "cell_type": "code",
   "execution_count": 64,
   "metadata": {},
   "outputs": [
    {
     "data": {
      "text/plain": [
       "Y    150\n",
       "N    114\n",
       "Name: CRITICAL FLAG, dtype: int64"
      ]
     },
     "execution_count": 64,
     "metadata": {},
     "output_type": "execute_result"
    }
   ],
   "source": [
    "#only want the closed restaurants that are in manhattan\n",
    "df_violation_manhattan = df_violation[df_violation['BORO']=='Manhattan']\n",
    "df_violation_manhattan['CRITICAL FLAG'].value_counts()"
   ]
  },
  {
   "cell_type": "code",
   "execution_count": 65,
   "metadata": {},
   "outputs": [
    {
     "data": {
      "text/plain": [
       "[<shapely.geometry.point.Point at 0x1a1e819780>,\n",
       " <shapely.geometry.point.Point at 0x1a20792438>,\n",
       " <shapely.geometry.point.Point at 0x1a20792d30>]"
      ]
     },
     "execution_count": 65,
     "metadata": {},
     "output_type": "execute_result"
    }
   ],
   "source": [
    "# Defining the coordinate system\n",
    "# Converting the latitude and longitude values to x,y (geometry) data points to be graphed\n",
    "crs = CRS(\"epsg:4326\")\n",
    "geometry = [Point(xy) for xy in zip(df_violation_manhattan['Longitude'], df_violation_manhattan['Latitude'])]\n",
    "geometry[:3]"
   ]
  },
  {
   "cell_type": "code",
   "execution_count": 66,
   "metadata": {
    "scrolled": true
   },
   "outputs": [],
   "source": [
    "#combining the data, the coordinate system, the geometry points \n",
    "geo_df = gpd.GeoDataFrame(df_violation_manhattan, crs=crs, geometry = geometry)"
   ]
  },
  {
   "cell_type": "code",
   "execution_count": 67,
   "metadata": {},
   "outputs": [
    {
     "data": {
      "image/png": "[encoded data removed]",
      "text/plain": [
       "<Figure size 576x576 with 1 Axes>"
      ]
     },
     "metadata": {
      "needs_background": "light"
     },
     "output_type": "display_data"
    }
   ],
   "source": [
    "#Plotting the data on the map and labeling each data point\n",
    "\n",
    "fig,ax = plt.subplots(figsize = (8,8))\n",
    "street_map.plot(ax=ax, alpha = 0.4, color = 'grey')\n",
    "geo_df[geo_df['reason'] == 'mice'].plot(ax=ax, markersize=3, color = 'orange', marker = 'o', label = 'Mice')\n",
    "geo_df[geo_df['reason'] == 'rats'].plot(ax=ax, markersize=3, color = 'blue', marker = 'o', label = 'Rats')\n",
    "geo_df[geo_df['reason'] == 'roaches'].plot(ax=ax, markersize=3, color = 'red', marker = 'o', label = 'Roaches')\n",
    "geo_df[geo_df['reason'] == 'vermin'].plot(ax=ax, markersize=3, color = 'green', marker = 'o', label = 'Vermin')\n",
    "geo_df[geo_df['reason'] == 'flies'].plot(ax=ax, markersize=3, color = 'black', marker = 'o', label = 'Flies')\n",
    "geo_df[geo_df['reason'] == 'other'].plot(ax=ax, markersize=3, color = 'grey', marker = 'o', label = 'Other')\n",
    "\n",
    "plt.legend(prop={'size':8})\n",
    "plt.xlim(-74.06,-73.9)\n",
    "plt.ylim(40.675,40.9)\n",
    "plt.show()"
   ]
  },
  {
   "cell_type": "markdown",
   "metadata": {},
   "source": [
    "- This exercise was to get an idea of where the restaurants that might be closing are located on a map of manhattan. "
   ]
  },
  {
   "cell_type": "markdown",
   "metadata": {},
   "source": [
    "# Step 10\n",
    "\n",
    "## Model to predict a critical or not critical evaluation\n",
    "   \n",
    "- Use the score and critical flag to model this data. \n",
    "- The grade is based on the score so would be redundant. \n",
    "- It is probably hard to fit cause there does not seem to visually be a correlation between critical flags and scores. Some A grades have a critical flag and some C grades don't have a critical flag.\n",
    "- Not really sure what consitutes as a critical flag, probably depends on the violation code recieved. \n",
    "\n",
    "- First step is to make the data ready to be inputted into a model"
   ]
  },
  {
   "cell_type": "code",
   "execution_count": 68,
   "metadata": {},
   "outputs": [
    {
     "data": {
      "text/plain": [
       "False    372971\n",
       "True       2505\n",
       "Name: CRITICAL FLAG, dtype: int64"
      ]
     },
     "execution_count": 68,
     "metadata": {},
     "output_type": "execute_result"
    }
   ],
   "source": [
    "#for this model if we want to use the critical flag data \n",
    "#Clean up the empty cells in the critical flag column\n",
    "A_B_C_df['CRITICAL FLAG'].isnull().value_counts()"
   ]
  },
  {
   "cell_type": "markdown",
   "metadata": {},
   "source": [
    "- The empty data for Critical Flag is about 0.7%, \n",
    "- Small amount so will be dropped for model purposes"
   ]
  },
  {
   "cell_type": "code",
   "execution_count": 69,
   "metadata": {},
   "outputs": [
    {
     "data": {
      "text/plain": [
       "<matplotlib.axes._subplots.AxesSubplot at 0x1a1c233908>"
      ]
     },
     "execution_count": 69,
     "metadata": {},
     "output_type": "execute_result"
    },
    {
     "data": {
      "image/png": "[encoded data removed]",
      "text/plain": [
       "<Figure size 432x288 with 1 Axes>"
      ]
     },
     "metadata": {
      "needs_background": "light"
     },
     "output_type": "display_data"
    }
   ],
   "source": [
    "#dropping empty values of critical flag data\n",
    "df_2 = A_B_C_df.dropna(subset=['CRITICAL FLAG'])\n",
    "sns.heatmap(df_2.isnull(),yticklabels=False,cbar=False)"
   ]
  },
  {
   "cell_type": "code",
   "execution_count": 73,
   "metadata": {},
   "outputs": [],
   "source": [
    "#function to convert the critcal flag Y/N to 1/0 to be used in developing a model\n",
    "def converter(critical):\n",
    "    if critical=='Y':\n",
    "        return 1\n",
    "    else:\n",
    "        return 0"
   ]
  },
  {
   "cell_type": "code",
   "execution_count": 74,
   "metadata": {},
   "outputs": [],
   "source": [
    "#converting the critical flag column to 1/0 to the critical column\n",
    "df_2.loc[:,'critical'] = df_2['CRITICAL FLAG'].apply(converter)"
   ]
  },
  {
   "cell_type": "code",
   "execution_count": 76,
   "metadata": {},
   "outputs": [
    {
     "name": "stdout",
     "output_type": "stream",
     "text": [
      "<class 'pandas.core.frame.DataFrame'>\n",
      "Int64Index: 372971 entries, 0 to 400733\n",
      "Data columns (total 27 columns):\n",
      "CAMIS                    372971 non-null int64\n",
      "DBA                      372971 non-null object\n",
      "BORO                     372971 non-null object\n",
      "BUILDING                 372743 non-null object\n",
      "STREET                   372971 non-null object\n",
      "ZIPCODE                  367833 non-null float64\n",
      "PHONE                    372955 non-null object\n",
      "CUISINE DESCRIPTION      372971 non-null object\n",
      "INSPECTION DATE          372971 non-null object\n",
      "ACTION                   372971 non-null object\n",
      "VIOLATION CODE           372971 non-null object\n",
      "VIOLATION DESCRIPTION    372971 non-null object\n",
      "CRITICAL FLAG            372971 non-null object\n",
      "SCORE                    372971 non-null float64\n",
      "GRADE                    372971 non-null object\n",
      "GRADE DATE               192649 non-null object\n",
      "RECORD DATE              372971 non-null object\n",
      "INSPECTION TYPE          372971 non-null object\n",
      "Latitude                 372596 non-null float64\n",
      "Longitude                372596 non-null float64\n",
      "Community Board          367458 non-null float64\n",
      "Council District         367470 non-null float64\n",
      "Census Tract             367470 non-null float64\n",
      "BIN                      365844 non-null float64\n",
      "BBL                      372596 non-null float64\n",
      "NTA                      367458 non-null object\n",
      "critical                 372971 non-null int64\n",
      "dtypes: float64(9), int64(2), object(16)\n",
      "memory usage: 79.7+ MB\n"
     ]
    }
   ],
   "source": [
    "#checking new data frame\n",
    "df_2.info()"
   ]
  },
  {
   "cell_type": "markdown",
   "metadata": {},
   "source": [
    "## Model 1 \n",
    "## Critical or not based on SCORE\n",
    "\n",
    "- This model is trying to predict a critical or not critical flag based on score only"
   ]
  },
  {
   "cell_type": "code",
   "execution_count": 77,
   "metadata": {},
   "outputs": [],
   "source": [
    "#dropping non-numerical data columns from the model\n",
    "df_model_1 = df_2.drop(['VIOLATION CODE','ACTION','GRADE','INSPECTION TYPE','Latitude','Longitude','CRITICAL FLAG','ZIPCODE','CAMIS','DBA','BORO','BUILDING','STREET','PHONE','CUISINE DESCRIPTION','INSPECTION DATE', 'VIOLATION DESCRIPTION','GRADE DATE', 'RECORD DATE','Council District','Census Tract','BIN','BBL','NTA','Community Board'], axis =1)"
   ]
  },
  {
   "cell_type": "code",
   "execution_count": 78,
   "metadata": {},
   "outputs": [
    {
     "name": "stdout",
     "output_type": "stream",
     "text": [
      "<class 'pandas.core.frame.DataFrame'>\n",
      "Int64Index: 372971 entries, 0 to 400733\n",
      "Data columns (total 2 columns):\n",
      "SCORE       372971 non-null float64\n",
      "critical    372971 non-null int64\n",
      "dtypes: float64(1), int64(1)\n",
      "memory usage: 8.5 MB\n"
     ]
    }
   ],
   "source": [
    "# Data frame used for the model \n",
    "# Using the Score to predict critical Y/N\n",
    "df_model_1.info()"
   ]
  },
  {
   "cell_type": "code",
   "execution_count": 79,
   "metadata": {},
   "outputs": [
    {
     "data": {
      "text/html": [
       "<div>\n",
       "<style scoped>\n",
       "    .dataframe tbody tr th:only-of-type {\n",
       "        vertical-align: middle;\n",
       "    }\n",
       "\n",
       "    .dataframe tbody tr th {\n",
       "        vertical-align: top;\n",
       "    }\n",
       "\n",
       "    .dataframe thead th {\n",
       "        text-align: right;\n",
       "    }\n",
       "</style>\n",
       "<table border=\"1\" class=\"dataframe\">\n",
       "  <thead>\n",
       "    <tr style=\"text-align: right;\">\n",
       "      <th></th>\n",
       "      <th>SCORE</th>\n",
       "      <th>critical</th>\n",
       "    </tr>\n",
       "  </thead>\n",
       "  <tbody>\n",
       "    <tr>\n",
       "      <th>0</th>\n",
       "      <td>12.0</td>\n",
       "      <td>0</td>\n",
       "    </tr>\n",
       "    <tr>\n",
       "      <th>1</th>\n",
       "      <td>39.0</td>\n",
       "      <td>0</td>\n",
       "    </tr>\n",
       "    <tr>\n",
       "      <th>2</th>\n",
       "      <td>24.0</td>\n",
       "      <td>0</td>\n",
       "    </tr>\n",
       "    <tr>\n",
       "      <th>3</th>\n",
       "      <td>12.0</td>\n",
       "      <td>1</td>\n",
       "    </tr>\n",
       "    <tr>\n",
       "      <th>4</th>\n",
       "      <td>34.0</td>\n",
       "      <td>0</td>\n",
       "    </tr>\n",
       "  </tbody>\n",
       "</table>\n",
       "</div>"
      ],
      "text/plain": [
       "   SCORE  critical\n",
       "0   12.0         0\n",
       "1   39.0         0\n",
       "2   24.0         0\n",
       "3   12.0         1\n",
       "4   34.0         0"
      ]
     },
     "execution_count": 79,
     "metadata": {},
     "output_type": "execute_result"
    }
   ],
   "source": [
    "df_model_1.head()"
   ]
  },
  {
   "cell_type": "code",
   "execution_count": 80,
   "metadata": {},
   "outputs": [],
   "source": [
    "# Splitting the data into the training and testing set \n",
    "from sklearn.model_selection import train_test_split\n",
    "\n",
    "X_train, X_test, y_train, y_test = train_test_split(df_model_1.drop('critical',axis=1), \n",
    "                                                    df_model_1['critical'], test_size=0.30, \n",
    "                                                    random_state=101)"
   ]
  },
  {
   "cell_type": "code",
   "execution_count": 81,
   "metadata": {},
   "outputs": [
    {
     "data": {
      "text/plain": [
       "LogisticRegression(C=1.0, class_weight=None, dual=False, fit_intercept=True,\n",
       "          intercept_scaling=1, max_iter=100, multi_class='warn',\n",
       "          n_jobs=None, penalty='l2', random_state=None, solver='lbfgs',\n",
       "          tol=0.0001, verbose=0, warm_start=False)"
      ]
     },
     "execution_count": 81,
     "metadata": {},
     "output_type": "execute_result"
    }
   ],
   "source": [
    "# Training and fitting the Logisitic Regression Model to the data\n",
    "from sklearn.linear_model import LogisticRegression\n",
    "logmodel = LogisticRegression(solver='lbfgs')\n",
    "logmodel.fit(X_train,y_train)"
   ]
  },
  {
   "cell_type": "code",
   "execution_count": 82,
   "metadata": {},
   "outputs": [
    {
     "name": "stdout",
     "output_type": "stream",
     "text": [
      "0.6053426518428484\n",
      "              precision    recall  f1-score   support\n",
      "\n",
      "           0       0.66      0.14      0.23     47432\n",
      "           1       0.60      0.95      0.73     64460\n",
      "\n",
      "   micro avg       0.61      0.61      0.61    111892\n",
      "   macro avg       0.63      0.54      0.48    111892\n",
      "weighted avg       0.63      0.61      0.52    111892\n",
      "\n",
      "[[ 6747 40685]\n",
      " [ 3474 60986]]\n"
     ]
    }
   ],
   "source": [
    "# The predictions and evaluation of the model \n",
    "predictions = logmodel.predict(X_test)\n",
    "\n",
    "from sklearn.metrics import accuracy_score,classification_report,confusion_matrix\n",
    "\n",
    "print(accuracy_score(y_test,predictions))\n",
    "\n",
    "print(classification_report(y_test,predictions))\n",
    "print(confusion_matrix(y_test,predictions))"
   ]
  },
  {
   "cell_type": "markdown",
   "metadata": {},
   "source": [
    "- Obviously not a very accurate model since it has such a low precision\n",
    "- This is probably due to there not being a big correlation between critcal flags and scores"
   ]
  },
  {
   "cell_type": "markdown",
   "metadata": {},
   "source": [
    "## Model 2\n",
    "\n",
    "## Critical or Not based on SCORE and VIOLATION CODE\n",
    "\n",
    "- This model is predicting critical flag Y/N based on score and violation code\n",
    "- More data may help find a correlation"
   ]
  },
  {
   "cell_type": "code",
   "execution_count": 83,
   "metadata": {},
   "outputs": [],
   "source": [
    "#dropping non-numerical data columns from the model\n",
    "df_model_2 = df_2.drop(['Latitude','Longitude','ACTION','GRADE','INSPECTION TYPE','CAMIS','CRITICAL FLAG','ZIPCODE','DBA','BORO','BUILDING','STREET','PHONE','CUISINE DESCRIPTION','INSPECTION DATE', 'VIOLATION DESCRIPTION','GRADE DATE', 'RECORD DATE','Council District','Census Tract','BIN','BBL','NTA','Community Board'], axis =1)"
   ]
  },
  {
   "cell_type": "code",
   "execution_count": 84,
   "metadata": {},
   "outputs": [
    {
     "name": "stdout",
     "output_type": "stream",
     "text": [
      "<class 'pandas.core.frame.DataFrame'>\n",
      "Int64Index: 372971 entries, 0 to 400733\n",
      "Data columns (total 3 columns):\n",
      "VIOLATION CODE    372971 non-null object\n",
      "SCORE             372971 non-null float64\n",
      "critical          372971 non-null int64\n",
      "dtypes: float64(1), int64(1), object(1)\n",
      "memory usage: 11.4+ MB\n"
     ]
    }
   ],
   "source": [
    "# Data frame used for Model 2 \n",
    "# Using the Score to predict critical Y/N\n",
    "df_model_2.info()"
   ]
  },
  {
   "cell_type": "code",
   "execution_count": 85,
   "metadata": {},
   "outputs": [
    {
     "data": {
      "text/html": [
       "<div>\n",
       "<style scoped>\n",
       "    .dataframe tbody tr th:only-of-type {\n",
       "        vertical-align: middle;\n",
       "    }\n",
       "\n",
       "    .dataframe tbody tr th {\n",
       "        vertical-align: top;\n",
       "    }\n",
       "\n",
       "    .dataframe thead th {\n",
       "        text-align: right;\n",
       "    }\n",
       "</style>\n",
       "<table border=\"1\" class=\"dataframe\">\n",
       "  <thead>\n",
       "    <tr style=\"text-align: right;\">\n",
       "      <th></th>\n",
       "      <th>SCORE</th>\n",
       "      <th>critical</th>\n",
       "      <th>VIOLATION CODE_02B</th>\n",
       "      <th>VIOLATION CODE_02C</th>\n",
       "      <th>VIOLATION CODE_02D</th>\n",
       "      <th>VIOLATION CODE_02E</th>\n",
       "      <th>VIOLATION CODE_02F</th>\n",
       "      <th>VIOLATION CODE_02G</th>\n",
       "      <th>VIOLATION CODE_02H</th>\n",
       "      <th>VIOLATION CODE_02I</th>\n",
       "      <th>...</th>\n",
       "      <th>VIOLATION CODE_10B</th>\n",
       "      <th>VIOLATION CODE_10C</th>\n",
       "      <th>VIOLATION CODE_10D</th>\n",
       "      <th>VIOLATION CODE_10E</th>\n",
       "      <th>VIOLATION CODE_10F</th>\n",
       "      <th>VIOLATION CODE_10G</th>\n",
       "      <th>VIOLATION CODE_10H</th>\n",
       "      <th>VIOLATION CODE_10I</th>\n",
       "      <th>VIOLATION CODE_10J</th>\n",
       "      <th>VIOLATION CODE_20F</th>\n",
       "    </tr>\n",
       "  </thead>\n",
       "  <tbody>\n",
       "    <tr>\n",
       "      <th>0</th>\n",
       "      <td>12.0</td>\n",
       "      <td>0</td>\n",
       "      <td>0</td>\n",
       "      <td>0</td>\n",
       "      <td>0</td>\n",
       "      <td>0</td>\n",
       "      <td>0</td>\n",
       "      <td>0</td>\n",
       "      <td>0</td>\n",
       "      <td>0</td>\n",
       "      <td>...</td>\n",
       "      <td>0</td>\n",
       "      <td>0</td>\n",
       "      <td>0</td>\n",
       "      <td>0</td>\n",
       "      <td>0</td>\n",
       "      <td>0</td>\n",
       "      <td>0</td>\n",
       "      <td>1</td>\n",
       "      <td>0</td>\n",
       "      <td>0</td>\n",
       "    </tr>\n",
       "    <tr>\n",
       "      <th>1</th>\n",
       "      <td>39.0</td>\n",
       "      <td>0</td>\n",
       "      <td>0</td>\n",
       "      <td>0</td>\n",
       "      <td>0</td>\n",
       "      <td>0</td>\n",
       "      <td>0</td>\n",
       "      <td>0</td>\n",
       "      <td>0</td>\n",
       "      <td>0</td>\n",
       "      <td>...</td>\n",
       "      <td>1</td>\n",
       "      <td>0</td>\n",
       "      <td>0</td>\n",
       "      <td>0</td>\n",
       "      <td>0</td>\n",
       "      <td>0</td>\n",
       "      <td>0</td>\n",
       "      <td>0</td>\n",
       "      <td>0</td>\n",
       "      <td>0</td>\n",
       "    </tr>\n",
       "    <tr>\n",
       "      <th>2</th>\n",
       "      <td>24.0</td>\n",
       "      <td>0</td>\n",
       "      <td>0</td>\n",
       "      <td>0</td>\n",
       "      <td>0</td>\n",
       "      <td>0</td>\n",
       "      <td>0</td>\n",
       "      <td>0</td>\n",
       "      <td>0</td>\n",
       "      <td>0</td>\n",
       "      <td>...</td>\n",
       "      <td>1</td>\n",
       "      <td>0</td>\n",
       "      <td>0</td>\n",
       "      <td>0</td>\n",
       "      <td>0</td>\n",
       "      <td>0</td>\n",
       "      <td>0</td>\n",
       "      <td>0</td>\n",
       "      <td>0</td>\n",
       "      <td>0</td>\n",
       "    </tr>\n",
       "    <tr>\n",
       "      <th>3</th>\n",
       "      <td>12.0</td>\n",
       "      <td>1</td>\n",
       "      <td>0</td>\n",
       "      <td>0</td>\n",
       "      <td>0</td>\n",
       "      <td>0</td>\n",
       "      <td>0</td>\n",
       "      <td>0</td>\n",
       "      <td>1</td>\n",
       "      <td>0</td>\n",
       "      <td>...</td>\n",
       "      <td>0</td>\n",
       "      <td>0</td>\n",
       "      <td>0</td>\n",
       "      <td>0</td>\n",
       "      <td>0</td>\n",
       "      <td>0</td>\n",
       "      <td>0</td>\n",
       "      <td>0</td>\n",
       "      <td>0</td>\n",
       "      <td>0</td>\n",
       "    </tr>\n",
       "    <tr>\n",
       "      <th>4</th>\n",
       "      <td>34.0</td>\n",
       "      <td>0</td>\n",
       "      <td>0</td>\n",
       "      <td>0</td>\n",
       "      <td>0</td>\n",
       "      <td>0</td>\n",
       "      <td>0</td>\n",
       "      <td>0</td>\n",
       "      <td>0</td>\n",
       "      <td>0</td>\n",
       "      <td>...</td>\n",
       "      <td>0</td>\n",
       "      <td>0</td>\n",
       "      <td>0</td>\n",
       "      <td>0</td>\n",
       "      <td>0</td>\n",
       "      <td>0</td>\n",
       "      <td>0</td>\n",
       "      <td>0</td>\n",
       "      <td>0</td>\n",
       "      <td>0</td>\n",
       "    </tr>\n",
       "  </tbody>\n",
       "</table>\n",
       "<p>5 rows × 67 columns</p>\n",
       "</div>"
      ],
      "text/plain": [
       "   SCORE  critical  VIOLATION CODE_02B  VIOLATION CODE_02C  \\\n",
       "0   12.0         0                   0                   0   \n",
       "1   39.0         0                   0                   0   \n",
       "2   24.0         0                   0                   0   \n",
       "3   12.0         1                   0                   0   \n",
       "4   34.0         0                   0                   0   \n",
       "\n",
       "   VIOLATION CODE_02D  VIOLATION CODE_02E  VIOLATION CODE_02F  \\\n",
       "0                   0                   0                   0   \n",
       "1                   0                   0                   0   \n",
       "2                   0                   0                   0   \n",
       "3                   0                   0                   0   \n",
       "4                   0                   0                   0   \n",
       "\n",
       "   VIOLATION CODE_02G  VIOLATION CODE_02H  VIOLATION CODE_02I  ...  \\\n",
       "0                   0                   0                   0  ...   \n",
       "1                   0                   0                   0  ...   \n",
       "2                   0                   0                   0  ...   \n",
       "3                   0                   1                   0  ...   \n",
       "4                   0                   0                   0  ...   \n",
       "\n",
       "   VIOLATION CODE_10B  VIOLATION CODE_10C  VIOLATION CODE_10D  \\\n",
       "0                   0                   0                   0   \n",
       "1                   1                   0                   0   \n",
       "2                   1                   0                   0   \n",
       "3                   0                   0                   0   \n",
       "4                   0                   0                   0   \n",
       "\n",
       "   VIOLATION CODE_10E  VIOLATION CODE_10F  VIOLATION CODE_10G  \\\n",
       "0                   0                   0                   0   \n",
       "1                   0                   0                   0   \n",
       "2                   0                   0                   0   \n",
       "3                   0                   0                   0   \n",
       "4                   0                   0                   0   \n",
       "\n",
       "   VIOLATION CODE_10H  VIOLATION CODE_10I  VIOLATION CODE_10J  \\\n",
       "0                   0                   1                   0   \n",
       "1                   0                   0                   0   \n",
       "2                   0                   0                   0   \n",
       "3                   0                   0                   0   \n",
       "4                   0                   0                   0   \n",
       "\n",
       "   VIOLATION CODE_20F  \n",
       "0                   0  \n",
       "1                   0  \n",
       "2                   0  \n",
       "3                   0  \n",
       "4                   0  \n",
       "\n",
       "[5 rows x 67 columns]"
      ]
     },
     "execution_count": 85,
     "metadata": {},
     "output_type": "execute_result"
    }
   ],
   "source": [
    "#Converting violation codes into 0,1 to be used in the machine learning model\n",
    "violation_code =['VIOLATION CODE']\n",
    "model_2 = pd.get_dummies(df_model_2,columns=violation_code,drop_first=True)\n",
    "model_2.head()"
   ]
  },
  {
   "cell_type": "code",
   "execution_count": 86,
   "metadata": {},
   "outputs": [],
   "source": [
    "# Splitting the data into the training and testing set \n",
    "from sklearn.model_selection import train_test_split\n",
    "\n",
    "X_train, X_test, y_train, y_test = train_test_split(model_2.drop('critical',axis=1), \n",
    "                                                    model_2['critical'], test_size=0.30, \n",
    "                                                    random_state=101)"
   ]
  },
  {
   "cell_type": "code",
   "execution_count": 87,
   "metadata": {},
   "outputs": [
    {
     "data": {
      "text/plain": [
       "LogisticRegression(C=1.0, class_weight=None, dual=False, fit_intercept=True,\n",
       "          intercept_scaling=1, max_iter=1000, multi_class='warn',\n",
       "          n_jobs=None, penalty='l2', random_state=None, solver='lbfgs',\n",
       "          tol=0.0001, verbose=0, warm_start=False)"
      ]
     },
     "execution_count": 87,
     "metadata": {},
     "output_type": "execute_result"
    }
   ],
   "source": [
    "# Training and fitting the Logisitic Regression Model to the data\n",
    "from sklearn.linear_model import LogisticRegression\n",
    "\n",
    "logmodel_2 = LogisticRegression(solver='lbfgs', max_iter=1000)\n",
    "logmodel_2.fit(X_train,y_train)"
   ]
  },
  {
   "cell_type": "code",
   "execution_count": 88,
   "metadata": {},
   "outputs": [
    {
     "name": "stdout",
     "output_type": "stream",
     "text": [
      "1.0\n",
      "              precision    recall  f1-score   support\n",
      "\n",
      "           0       1.00      1.00      1.00     47432\n",
      "           1       1.00      1.00      1.00     64460\n",
      "\n",
      "   micro avg       1.00      1.00      1.00    111892\n",
      "   macro avg       1.00      1.00      1.00    111892\n",
      "weighted avg       1.00      1.00      1.00    111892\n",
      "\n",
      "[[47432     0]\n",
      " [    0 64460]]\n"
     ]
    }
   ],
   "source": [
    "# The predictions and evaluation of the model \n",
    "\n",
    "predictions_2 = logmodel_2.predict(X_test)\n",
    "\n",
    "from sklearn.metrics import accuracy_score,classification_report,confusion_matrix\n",
    "\n",
    "print(accuracy_score(y_test,predictions_2))\n",
    "print(classification_report(y_test,predictions_2))\n",
    "print(confusion_matrix(y_test,predictions_2))"
   ]
  },
  {
   "cell_type": "markdown",
   "metadata": {},
   "source": [
    "- The precision for this model is 1\n",
    "- Ideally we would like a precision 0.9 or above, but 1 seems to make me think this model is overpredicting and is not accurate either, will need to look into this more"
   ]
  },
  {
   "cell_type": "markdown",
   "metadata": {},
   "source": [
    "## Conclusions\n",
    "\n",
    "### The main takeaways\n",
    "\n",
    "- There is no bias between boroughs and their health inspection ratings\n",
    "- Cafes have the highest probability of having an A grade, while Spanish, Latin, and Carribean have the highest probability of a B or C grade\n",
    "- The most scores are 13 (A grade right before changing to a B) showing health inspectors are inclined to keep a restaurant in the A grade range since a B will hurt business\n",
    "- The mention of mice, roaches, rats, and flies in violation description warrant for a critical flag\n",
    "- Mice, roaches, rats, flies, and vermin are main violations keeping the 782 restaurants in danger of closing being closed after reinspections\n",
    "- There is not a great correlation between critical flags and restaurant scores. "
   ]
  }
 ],
 "metadata": {
  "kernelspec": {
   "display_name": "Python 3",
   "language": "python",
   "name": "python3"
  },
  "language_info": {
   "codemirror_mode": {
    "name": "ipython",
    "version": 3
   },
   "file_extension": ".py",
   "mimetype": "text/x-python",
   "name": "python",
   "nbconvert_exporter": "python",
   "pygments_lexer": "ipython3",
   "version": "3.7.3"
  }
 },
 "nbformat": 4,
 "nbformat_minor": 2
}
